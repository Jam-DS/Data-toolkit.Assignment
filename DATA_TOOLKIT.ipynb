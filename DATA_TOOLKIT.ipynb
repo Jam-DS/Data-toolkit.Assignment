{
  "nbformat": 4,
  "nbformat_minor": 0,
  "metadata": {
    "colab": {
      "provenance": []
    },
    "kernelspec": {
      "name": "python3",
      "display_name": "Python 3"
    },
    "language_info": {
      "name": "python"
    }
  },
  "cells": [
    {
      "cell_type": "markdown",
      "source": [
        "#QUESTIONS"
      ],
      "metadata": {
        "id": "QNvVo3l5vKWJ"
      }
    },
    {
      "cell_type": "markdown",
      "source": [
        "[Q.1] What is NumPy, and why is it widely used in Python ?\n",
        "\n",
        "-  NumPy is a fundamental library in Python for scientific computing. It offers powerful features for working with multidimensional arrays and performing various mathematical operations efficiently.\n",
        "\n",
        "NumPy (Numerical Python) is an open source Python library that has a wide range of inbuilt functions.\n",
        "\n",
        "* Advantage of Numpy :- NumPy is ideal for handling large amounts of homogeneous (same-type) data, offering significant improvements in speed and memory efficiency. It also provides high-level syntax for a wide range of numerical operations, making it a powerful tool for scientific computing and data processing on the CPU."
      ],
      "metadata": {
        "id": "x6WSC1t4vnjL"
      }
    },
    {
      "cell_type": "markdown",
      "source": [
        "[Q.2] How does broadcasting work in NumPy ?\n",
        "-  Broadcasting is a mechanism in NumPy that allows performing operations on arrays of different shapes under certain conditions. When operands have different shapes, NumPy expands the smaller array to match the larger one in a specific way to perform element-wise operations"
      ],
      "metadata": {
        "id": "JnCQj3Hh2PmS"
      }
    },
    {
      "cell_type": "markdown",
      "source": [
        "[Q.3] What is a Pandas DataFrame ?\n",
        "-  A Pandas DataFrame is a two-dimensional, size-mutable, tabular data structure in Python, provided by the Pandas library. It is one of the most commonly used data structures for handling and analyzing structured data, such as spreadsheets, SQL tables, or CSV files."
      ],
      "metadata": {
        "id": "IHmftHfF57h3"
      }
    },
    {
      "cell_type": "markdown",
      "source": [
        "[Q.4] Explain the use of the groupby() method in Pandas.\n",
        "-  A groupby operation involves some combination of splitting the object, applying a function, and combining the results. This can be used to group large amounts of data and compute operations on these groups. It is a powerful tool for data aggregation, transformation, and analysis, allowing you to summarize data based on specific criteria."
      ],
      "metadata": {
        "id": "2_Ms2TBlDLDe"
      }
    },
    {
      "cell_type": "markdown",
      "source": [
        "[Q.5] Why is Seaborn preferred for statistical visualizations?\n",
        "-  Seaborn is preferred for statistical visualizations because it offers a high-level, user-friendly interface specifically designed for creating informative and aesthetically pleasing statistical graphics. It builds on top of Matplotlib and integrates seamlessly with Pandas DataFrames, making it especially useful for exploratory data analysis (EDA)."
      ],
      "metadata": {
        "id": "ZeGOSP__F8Mb"
      }
    },
    {
      "cell_type": "markdown",
      "source": [
        "[Q.6] What are the differences between NumPy arrays and Python lists ?\n",
        "-  NumPy arrays and Python lists are two commonly used data structures in Python, but they have significant differences in terms of functionality, performance, and use cases.\n",
        "\n",
        "[ Some important points about Numpy arrays ]:\n",
        "\n",
        "- We can create an N-dimensional array in Python using Numpy.array().\n",
        "\n",
        "- The array is by default Homogeneous, which means data inside an array must be of the same Datatype.\n",
        "\n",
        "- Element-wise operation is possible.\n",
        "\n",
        "- Numpy array has various functions, methods, and variables, to ease our task of matrix computation.\n",
        "\n",
        "- Elements of an array are stored contiguously in memory. For example, all rows of a two-dimensioned array must have the same number of columns. A three-dimensional array must have the same number of rows and columns on each card.\n",
        "\n",
        "[ Some important points about Python Lists ] :\n",
        "\n",
        "- The list can be homogeneous or heterogeneous.\n",
        "\n",
        "- Element-wise operation is not possible on the list.\n",
        "\n",
        "- Python list is by default 1-dimensional. But we can create an N-Dimensional list. But then too it will be 1 D list storing another 1D list.\n",
        "\n",
        "- Elements of a list need not be contiguous in memory."
      ],
      "metadata": {
        "id": "VpAlKA7-Hjl3"
      }
    },
    {
      "cell_type": "markdown",
      "source": [
        "[Q.7] What is a heatmap, and when should it be used ?\n",
        "-  A heatmap is a data visualization technique that uses color to represent the magnitude of values in a two-dimensional matrix or grid. It is an effective way to visually summarize complex data and identify patterns, trends, and outliers.\n",
        "\n",
        "#When to use a heatmap\n",
        "-  To visualize user behavior: Heatmaps can show where users click on a page, how far they scroll, and how long they spend on certain parts of a page.\n",
        "\n",
        "- To identify patterns: Heatmaps can show how values vary across a scale, and can help you identify patterns in data.\n",
        "\n",
        "- To make informed decisions: Heatmaps can help you identify areas for improvement and make decisions about marketing, inventory management, and more.\n",
        "- To visualize geographic data: Heatmaps can show the distribution of data across a geographical area.\n",
        "- To analyze financial data: Heatmaps can show how the value of products and assets change over time."
      ],
      "metadata": {
        "id": "2a_oh92XNOjQ"
      }
    },
    {
      "cell_type": "markdown",
      "source": [
        "[Q.8] What does the term “vectorized operation” mean in NumPy ?\n",
        "-  Vectorization in NumPy is a method of performing operations on entire arrays without explicit loops. This approach leverages NumPy’s underlying C implementation for faster and more efficient computations. By replacing iterative processes with vectorized functions, you can significantly optimize performance in data analysis, machine learning, and scientific computing tasks.\n",
        "\n"
      ],
      "metadata": {
        "id": "CGhf_b2PCO7O"
      }
    },
    {
      "cell_type": "markdown",
      "source": [
        "[Q.9].How does Matplotlib differ from Plotly ?\n",
        "-  Both Matplotlib and Plotly are popular Python libraries for data visualization, but they have distinct differences in functionality, interactivity, and use cases.\n",
        "\n",
        "#Key Features of Matplotlib:\n",
        "1. Wide Range of Plot Types: Supports an extensive range of plot types, ensuring that you can depict your data in the most suitable format.\n",
        "\n",
        "2. Customization: Offers granular control over every aspect of the visualizations.\n",
        "\n",
        "3. Publication quality: One of the standout features of Matplotlib is its ability to generate publication-quality images that meet the standards of scientific publications and presentations.\n",
        "\n",
        "4. Integration with other libraries: Matplotlib can be easily integrated with other Python libraries such as NumPy, Pandas and SciPy, allowing seamless data manipulation and analysis before plotting.\n",
        "\n",
        "#Key Features and Pros of Plotly:\n",
        "1. Interactivity: Plotly excels in creating interactive visualizations, enabling user interactions like hovering, clicking, zooming, and panning.\n",
        "2.  Web Integration: Plotly is designed for seamless integration into web applications, blogs, and dashboards, making it ideal for online data sharing.\n",
        "3.  Versatile Charts: Plotly supports a wide range of chart types, from scatter plots to 3D plots, allowing for diverse and engaging visualizations.\n",
        "4.  Easy Customization: Plotly offers extensive customization options for colours, fonts, markers, and labels, making it suitable for users of all skill levels.\n",
        "5.  Documentation: Plotly’s documentation is years ahead of Matplotlib. It’s easy to find information about the kind of plot that you are trying to create."
      ],
      "metadata": {
        "id": "9eTvylBjF2KU"
      }
    },
    {
      "cell_type": "markdown",
      "source": [
        "[Q.10] What is the significance of hierarchical indexing in Pandas ?\n",
        "-  Hierarchical indexing in pandas (also known as multi-level indexing) is a powerful feature that allows you to work with data that has multiple dimensions or levels of indexes. It provides flexibility in organizing and accessing data, making it particularly useful for complex datasets.\n",
        "\n",
        "#KEY SIGNIFICANCE\n",
        " [ **Organizing Complex Data** ]:\n",
        "\n",
        "- Hierarchical indexing allows you to structure data with multiple levels of row or column labels, making it easier to work with datasets that have natural groupings or hierarchies.\n",
        "\n",
        "[ **Efficient data science** ]\n",
        "Hierarchical indexing allows advanced slice-and-dice operations for selecting subsets of data.\n",
        "You can select data using partial indexing on one or more levels of the hierarchy.\n",
        "\n",
        "[ **Handling High-Dimensional Data** ]\n",
        "- Hierarchical indexing lets you handle datasets with more than two dimensions (e.g., time series data with multiple attributes) without converting them to multidimensional arrays.\n",
        "\n",
        "[ **Improved Data Reshaping** ]\n",
        "-  Hierarchical indexes simplify reshaping operations like stacking and unstacking, converting between wide and long formats.\n",
        "This is especially useful in pivot table operations.\n",
        "\n"
      ],
      "metadata": {
        "id": "6yvHXwB5WweO"
      }
    },
    {
      "cell_type": "markdown",
      "source": [
        "[ Q.11] What is the role of Seaborn’s pairplot() function ?\n",
        "-  The pairplot() function in Seaborn is a powerful tool for exploratory data analysis (EDA). It is used to create a grid of scatter plots (and optionally histograms or kernel density plots) for visualizing pairwise relationships between variables in a dataset.\n",
        "\n",
        "- it does\n",
        "Creates a grid of scatter plots for each pair of numerical columns in a dataset\n",
        "Displays the distribution of single variables and the relationships between two variables\n",
        "Provides insights into both univariate distributions and bivariate relationships\n",
        "Allows users to showcase a subset of variables or plot different types of variables on rows and columns"
      ],
      "metadata": {
        "id": "CGNNbupST8Za"
      }
    },
    {
      "cell_type": "markdown",
      "source": [
        "[Q.12] What is the purpose of the describe() function in Pandas ?\n",
        "-  The describe() function in pandas is used to generate a summary of descriptive statistics for a DataFrame or Series. It provides a quick overview of the central tendency, dispersion, and shape of the dataset's distribution, which is useful for exploratory data analysis (EDA).\n",
        "\n",
        "\n",
        "\n",
        "\n"
      ],
      "metadata": {
        "id": "t28kC0QSowqX"
      }
    },
    {
      "cell_type": "markdown",
      "source": [
        "[Q.13] Why is handling missing data important in Pandas ?\n",
        "-  Handling missing data is crucial in pandas (and data analysis in general) because missing values can lead to inaccurate analysis, unreliable models, and incorrect conclusions."
      ],
      "metadata": {
        "id": "WEsg2xGr0dGg"
      }
    },
    {
      "cell_type": "markdown",
      "source": [
        "[Q.14] What are the benefits of using Plotly for data visualization ?\n",
        "-  Plotly is a versatile and powerful library for data visualization in Python, offering numerous benefits that make it a popular choice for interactive and advanced visualizations.\n",
        "*Benefits :-\n",
        "\n",
        "1.  Highly Interactive Visuals: Plotly’s visualizations are interactive by default, allowing users to zoom, pan, hover for tooltips, and toggle data series.\n",
        "2. User Engagement: This interactivity makes visualizations more engaging and insightful, particularly for exploratory data analysis and presentations.\n",
        "\n",
        "3. Plotly visualizations can be easily embedded in web applications, shared as standalone HTML files, or integrated with dashboards.\n",
        "4.  The visualizations are rendered using JavaScript (via the plotly.js library), ensuring compatibility with modern web browsers.\n",
        "5. Plotly uses WebGL for rendering visualizations, enabling it to handle large datasets efficiently.\n",
        "6. This makes it suitable for visualizing high-dimensional or complex data.\n"
      ],
      "metadata": {
        "id": "lU8betH96YkE"
      }
    },
    {
      "cell_type": "markdown",
      "source": [
        "[Q.15] How does NumPy handle multidimensional arrays ?\n",
        "-  NumPy is a powerful library for numerical computation in Python, and it handles multidimensional arrays efficiently using its core data structure, the ndarray (short for N-dimensional array).\n",
        "- NumPy arrays are stored in contiguous memory blocks, making operations efficient.\n",
        "Multidimensional arrays are indexed using tuples of integers.\n",
        "- NumPy allows slicing along each dimension, making it easy to extract subarrays.\n",
        "- NumPy's multidimensional arrays are the foundation for numerical computation in Python. They provide a powerful, efficient, and flexible way to work with data across multiple dimensions, making them indispensable for scientific and data-driven applications."
      ],
      "metadata": {
        "id": "yq4zWWL5AU1u"
      }
    },
    {
      "cell_type": "markdown",
      "source": [
        "[Q.16] What is the role of Bokeh in data visualization ?\n",
        "-  Bokeh designed to create interactive and web-friendly visualizations. It allows users to create plots easily embedded in web applications and provides dynamic interactions like zooming, panning, and tooltips.\n",
        "-  It is a powerful Python library designed for creating interactive and visually appealing data visualizations for web applications. Its main role is to enable interactive exploration of data and the development of dynamic and engaging visualizations that can be embedded in web pages or dashboards."
      ],
      "metadata": {
        "id": "60IdYUguoIGs"
      }
    },
    {
      "cell_type": "markdown",
      "source": [
        "[Q.17]  Explain the difference between apply() and map() in Pandas.\n",
        "-  In pandas, both apply() and map() are used to apply functions to data, but they differ in their scope, usage, and the type of objects they work on.\n",
        "\n",
        "**Apply()** :\n",
        "- Works on both DataFrames and Series.\n",
        "- Can be applied row-wise or column-wise (using the axis argument).\n",
        "- Offers more flexibility than map(), allowing you to apply complex functions that might require multiple columns as input.\n",
        "-  Use apply() for more complex operations on DataFrames or Series, especially when you need to access multiple columns or rows at once.\n",
        "\n",
        "**Map()** :\n",
        "-  Works only on Series (single columns)\n",
        "-  Used for element-wise transformations, substituting each value in the Series with another value.\n",
        "-  Can accept dictionaries, functions, or other Series as arguments.\n",
        "-  Use map() for simple element-wise transformations on Series."
      ],
      "metadata": {
        "id": "dNOiffvKsOxg"
      }
    },
    {
      "cell_type": "markdown",
      "source": [
        "[Q.18]  What are some advanced features of NumPy ?\n",
        "-  NumPy is an open-source Python library that provides support for large, multi-dimensional arrays and matrices. It also have a collection of high-level mathematical functions to operate on arrays.\n",
        "\n",
        "**features of NumPy**\n",
        "-  Provides powerful, multidimensional array objects (ndarrays).\n",
        "- Supports advanced slicing and indexing techniques.\n",
        "- Reduces the need for explicit loops with efficient array operations.\n",
        "- Easily integrates with other libraries like pandas, matplotlib, and SciPy.\n",
        "- Useful linear algebra, Fourier transform, and random number capabilities.\n",
        "- Provides powerful ways to select and manipulate subsets of arrays using slicing, boolean arrays, or integer arrays."
      ],
      "metadata": {
        "id": "cpPL5Px610u3"
      }
    },
    {
      "cell_type": "markdown",
      "source": [
        "[Q.19] How does Pandas simplify time series analysis ?\n",
        "-  Pandas is a powerful library for data manipulation and analysis, and it provides extensive support for time series analysis. It simplifies working with time-indexed data by offering specialized data structures, intuitive methods, and built-in functionality tailored to handle time-based operations.\n"
      ],
      "metadata": {
        "id": "dNR5gniC3aAw"
      }
    },
    {
      "cell_type": "markdown",
      "source": [
        "[Q.20] What is the role of a pivot table in Pandas ?\n",
        "-  A pivot table in pandas is a powerful data summarization and reshaping tool that helps transform and analyze datasets. It is inspired by the concept of pivot tables in spreadsheet software like Excel. The primary role of a pivot table is to aggregate data based on one or more categorical variables and to display the results in a structured, table-like format.\n",
        "\n",
        "**Role of pivot table**\n",
        "-  A pivot table allows you to summarize large datasets by aggregating numerical data based on one or more categorical variables.\n",
        "- Common aggregation functions include sum, mean, count, min, max, and custom aggregation functions.\n",
        "-  Pivot tables reshape data into a more organized structure, making it easier to analyze relationships between variables.\n",
        "-  Categorical variables become rows and columns, while numerical data forms the values of the table.\n",
        "-  You can specify which columns to use as row labels, column labels, and values, giving you a lot of control over how your data is summarized."
      ],
      "metadata": {
        "id": "GxXUaJtc4vla"
      }
    },
    {
      "cell_type": "markdown",
      "source": [
        "[Q.21] Why is NumPy’s array slicing faster than Python’s list slicing ?\n",
        "-  NumPy’s array slicing is faster than Python’s list slicing due to several fundamental differences in how NumPy arrays and Python lists are implemented and operate under the hood.\n",
        "-  All elements in a NumPy array have the same data type and fixed size, allowing efficient access and manipulation.\n",
        "-  Since Python lists can hold objects of different types, the interpreter must handle type checks and indirections during slicing, which adds overhead.\n",
        "- python list slicing involves creating a new list with new references, incurring additional memory and computation costs.\n",
        "-  Slicing a NumPy array does not create a new copy of the data but rather a view (a reference) into the original data, avoiding unnecessary memory allocation."
      ],
      "metadata": {
        "id": "7bLgkGeH7IxA"
      }
    },
    {
      "cell_type": "markdown",
      "source": [
        "[Q.22] What are some common use cases for Seaborn ?\n",
        "-  Seaborn is a Python data visualization library that simplifies the process of creating complex visualizations. It is specifically designed for statistical data visualization making it easier to understand data distributions and relationships between them.it provides high-level interface for creating complex visualization with minimal code.\n",
        "-  Data analysis : Explore patterns, trends, and relationships in your data.\n",
        "- Machine learning : Visualize model performance, feature importance, and data distributions.\n",
        "- Business intelligence : Create dashboards and reports to communicate insights effectively.\n",
        "- Scientific research : Present findings and communicate complex data in a visually appealing way.\n",
        "-  High-level interface: Simplifies the creation of complex visualizations.\n",
        "- Integration with Pandas: Works with Pandas DataFrames for data manipulation.\n",
        "- Built-in themes: Offers attractive default themes and color palettes.\n",
        "- Statistical plots: Provides various plot types to visualize statistical relationships and distributions."
      ],
      "metadata": {
        "id": "eSvWFmSY6_vI"
      }
    },
    {
      "cell_type": "markdown",
      "source": [
        "#PRACTICAL"
      ],
      "metadata": {
        "id": "4umbKxZMiM7v"
      }
    },
    {
      "cell_type": "markdown",
      "source": [
        "[Q.1] How do you create a 2D NumPy array and calculate the sum of each row ?\n",
        "\n",
        "\n"
      ],
      "metadata": {
        "id": "MFQ4PGtViTlX"
      }
    },
    {
      "cell_type": "code",
      "source": [
        "array_2d = np.array([[1, 2, 3], [4, 5, 6]])\n",
        "\n",
        "print(\"2D NumPy Array:\")\n",
        "print(array_2d)5\n",
        "row_sums = np.sum(array_2d, axis=1)\n",
        "\n",
        "print(\"Sum of each row:\")\n",
        "print(row_sums)"
      ],
      "metadata": {
        "colab": {
          "base_uri": "https://localhost:8080/"
        },
        "id": "OV034EtVkUYB",
        "outputId": "7e2ba53d-9b9b-4b24-94bb-705dbaf1d820"
      },
      "execution_count": null,
      "outputs": [
        {
          "output_type": "stream",
          "name": "stdout",
          "text": [
            "2D NumPy Array:\n",
            "[[1 2 3]\n",
            " [4 5 6]]\n",
            "Sum of each row:\n",
            "[ 6 15]\n"
          ]
        }
      ]
    },
    {
      "cell_type": "markdown",
      "source": [
        "[Q.2] Write a Pandas script to find the mean of a specific column in a DataFrame."
      ],
      "metadata": {
        "id": "rxRD332w4QKt"
      }
    },
    {
      "cell_type": "code",
      "source": [
        "import pandas as pd\n",
        "\n",
        "data = {\n",
        "    'Name': ['loshan', 'sumeet', 'sameer', 'ayush'],\n",
        "    'Age': [24, 20, 25, 22],\n",
        "    'Salary': [50000, 55000, 60000, 65000]\n",
        "}\n",
        "\n",
        "df = pd.DataFrame(data)\n",
        "\n",
        "mean_age = df['Age'].mean()\n",
        "\n",
        "print(f\"The mean age is: {mean_age}\")\n"
      ],
      "metadata": {
        "id": "DLpdSFx0fySU",
        "colab": {
          "base_uri": "https://localhost:8080/"
        },
        "outputId": "8b9f23b8-eb19-494c-fea6-64ddee9a4f93"
      },
      "execution_count": 36,
      "outputs": [
        {
          "output_type": "stream",
          "name": "stdout",
          "text": [
            "The mean age is: 22.75\n"
          ]
        }
      ]
    },
    {
      "cell_type": "markdown",
      "source": [
        "[Q.3] Create a scatter plot using Matplotlib."
      ],
      "metadata": {
        "id": "Cg7YsRiuf1h_"
      }
    },
    {
      "cell_type": "code",
      "source": [
        "x = np.array([12, 45, 7, 32, 89, 54, 23, 67, 14, 91])\n",
        "y = np.array([99, 31, 72, 56, 19, 88, 43, 61, 35, 77])\n",
        "\n",
        "plt.scatter(x, y)\n",
        "plt.show()"
      ],
      "metadata": {
        "id": "srqCUERXQz0U",
        "colab": {
          "base_uri": "https://localhost:8080/"
        },
        "outputId": "c625354a-8921-497e-aa98-60e1f51c432d"
      },
      "execution_count": null,
      "outputs": [
        {
          "output_type": "display_data",
          "data": {
            "text/plain": [
              "<Figure size 640x480 with 1 Axes>"
            ],
            "image/png": "[encoded data removed]"
          },
          "metadata": {}
        }
      ]
    },
    {
      "cell_type": "markdown",
      "source": [
        "[Q.4] How do you calculate the correlation matrix using Seaborn and visualize it with a heatmap ?"
      ],
      "metadata": {
        "id": "zKKzeOMD2yH6"
      }
    },
    {
      "cell_type": "code",
      "source": [
        "np.random.seed(42)\n",
        "data = pd.DataFrame({\n",
        "    'A': np.random.rand(500),\n",
        "    'B': np.random.rand(500),\n",
        "    'C': np.random.rand(500),\n",
        "    'D': np.random.rand(500),\n",
        "})\n",
        "\n",
        "correlation_matrix = data.corr()\n",
        "\n",
        "plt.figure(figsize=(8, 6))\n",
        "sns.heatmap(correlation_matrix, annot=True, cmap='winter', fmt='.2f', linewidths=0.5)\n",
        "plt.title('Correlation Matrix Heatmap')\n",
        "plt.show()\n"
      ],
      "metadata": {
        "id": "MYr9ZoprqhbB",
        "colab": {
          "base_uri": "https://localhost:8080/",
          "height": 545
        },
        "outputId": "4ae42923-0866-45b8-bbb9-a90a8c21ee20"
      },
      "execution_count": null,
      "outputs": [
        {
          "output_type": "display_data",
          "data": {
            "text/plain": [
              "<Figure size 800x600 with 2 Axes>"
            ],
            "image/png": "[encoded data removed]"
          },
          "metadata": {}
        }
      ]
    },
    {
      "cell_type": "markdown",
      "source": [
        "[Q.5] Generate a bar plot using Plotly."
      ],
      "metadata": {
        "id": "MvG56aPRsus9"
      }
    },
    {
      "cell_type": "code",
      "source": [
        "import plotly.express as px\n",
        "import pandas as pd\n",
        "\n",
        "data = pd.DataFrame({\n",
        "    'Category': ['A', 'B', 'C', 'D'],\n",
        "    'Values': [23, 45, 56, 78]\n",
        "})\n",
        "fig = px.bar(data, x='Category', y='Values', title='Bar Plot Example',\n",
        "             labels={'Values': 'Value Count'}, color='Category')\n",
        "fig.show()\n"
      ],
      "metadata": {
        "colab": {
          "base_uri": "https://localhost:8080/",
          "height": 542
        },
        "id": "n353-mDZ8JzI",
        "outputId": "88f8be22-c3b5-4658-bfd6-0f83e56978f1"
      },
      "execution_count": null,
      "outputs": [
        {
          "output_type": "display_data",
          "data": {
            "text/html": [
              "<html>\n",
              "<head><meta charset=\"utf-8\" /></head>\n",
              "<body>\n",
              "    <div>            <script src=\"https://cdnjs.cloudflare.com/ajax/libs/mathjax/2.7.5/MathJax.js?config=TeX-AMS-MML_SVG\"></script><script type=\"text/javascript\">if (window.MathJax && window.MathJax.Hub && window.MathJax.Hub.Config) {window.MathJax.Hub.Config({SVG: {font: \"STIX-Web\"}});}</script>                <script type=\"text/javascript\">window.PlotlyConfig = {MathJaxConfig: 'local'};</script>\n",
              "        <script charset=\"utf-8\" src=\"https://cdn.plot.ly/plotly-2.35.2.min.js\"></script>                <div id=\"0eff3553-a4e5-4379-be57-ab9a3476fb56\" class=\"plotly-graph-div\" style=\"height:525px; width:100%;\"></div>            <script type=\"text/javascript\">                                    window.PLOTLYENV=window.PLOTLYENV || {};                                    if (document.getElementById(\"0eff3553-a4e5-4379-be57-ab9a3476fb56\")) {                    Plotly.newPlot(                        \"0eff3553-a4e5-4379-be57-ab9a3476fb56\",                        [{\"alignmentgroup\":\"True\",\"hovertemplate\":\"Category=%{x}\\u003cbr\\u003eValue Count=%{y}\\u003cextra\\u003e\\u003c\\u002fextra\\u003e\",\"legendgroup\":\"A\",\"marker\":{\"color\":\"#636efa\",\"pattern\":{\"shape\":\"\"}},\"name\":\"A\",\"offsetgroup\":\"A\",\"orientation\":\"v\",\"showlegend\":true,\"textposition\":\"auto\",\"x\":[\"A\"],\"xaxis\":\"x\",\"y\":[23],\"yaxis\":\"y\",\"type\":\"bar\"},{\"alignmentgroup\":\"True\",\"hovertemplate\":\"Category=%{x}\\u003cbr\\u003eValue Count=%{y}\\u003cextra\\u003e\\u003c\\u002fextra\\u003e\",\"legendgroup\":\"B\",\"marker\":{\"color\":\"#EF553B\",\"pattern\":{\"shape\":\"\"}},\"name\":\"B\",\"offsetgroup\":\"B\",\"orientation\":\"v\",\"showlegend\":true,\"textposition\":\"auto\",\"x\":[\"B\"],\"xaxis\":\"x\",\"y\":[45],\"yaxis\":\"y\",\"type\":\"bar\"},{\"alignmentgroup\":\"True\",\"hovertemplate\":\"Category=%{x}\\u003cbr\\u003eValue Count=%{y}\\u003cextra\\u003e\\u003c\\u002fextra\\u003e\",\"legendgroup\":\"C\",\"marker\":{\"color\":\"#00cc96\",\"pattern\":{\"shape\":\"\"}},\"name\":\"C\",\"offsetgroup\":\"C\",\"orientation\":\"v\",\"showlegend\":true,\"textposition\":\"auto\",\"x\":[\"C\"],\"xaxis\":\"x\",\"y\":[56],\"yaxis\":\"y\",\"type\":\"bar\"},{\"alignmentgroup\":\"True\",\"hovertemplate\":\"Category=%{x}\\u003cbr\\u003eValue Count=%{y}\\u003cextra\\u003e\\u003c\\u002fextra\\u003e\",\"legendgroup\":\"D\",\"marker\":{\"color\":\"#ab63fa\",\"pattern\":{\"shape\":\"\"}},\"name\":\"D\",\"offsetgroup\":\"D\",\"orientation\":\"v\",\"showlegend\":true,\"textposition\":\"auto\",\"x\":[\"D\"],\"xaxis\":\"x\",\"y\":[78],\"yaxis\":\"y\",\"type\":\"bar\"}],                        {\"template\":{\"data\":{\"histogram2dcontour\":[{\"type\":\"histogram2dcontour\",\"colorbar\":{\"outlinewidth\":0,\"ticks\":\"\"},\"colorscale\":[[0.0,\"#0d0887\"],[0.1111111111111111,\"#46039f\"],[0.2222222222222222,\"#7201a8\"],[0.3333333333333333,\"#9c179e\"],[0.4444444444444444,\"#bd3786\"],[0.5555555555555556,\"#d8576b\"],[0.6666666666666666,\"#ed7953\"],[0.7777777777777778,\"#fb9f3a\"],[0.8888888888888888,\"#fdca26\"],[1.0,\"#f0f921\"]]}],\"choropleth\":[{\"type\":\"choropleth\",\"colorbar\":{\"outlinewidth\":0,\"ticks\":\"\"}}],\"histogram2d\":[{\"type\":\"histogram2d\",\"colorbar\":{\"outlinewidth\":0,\"ticks\":\"\"},\"colorscale\":[[0.0,\"#0d0887\"],[0.1111111111111111,\"#46039f\"],[0.2222222222222222,\"#7201a8\"],[0.3333333333333333,\"#9c179e\"],[0.4444444444444444,\"#bd3786\"],[0.5555555555555556,\"#d8576b\"],[0.6666666666666666,\"#ed7953\"],[0.7777777777777778,\"#fb9f3a\"],[0.8888888888888888,\"#fdca26\"],[1.0,\"#f0f921\"]]}],\"heatmap\":[{\"type\":\"heatmap\",\"colorbar\":{\"outlinewidth\":0,\"ticks\":\"\"},\"colorscale\":[[0.0,\"#0d0887\"],[0.1111111111111111,\"#46039f\"],[0.2222222222222222,\"#7201a8\"],[0.3333333333333333,\"#9c179e\"],[0.4444444444444444,\"#bd3786\"],[0.5555555555555556,\"#d8576b\"],[0.6666666666666666,\"#ed7953\"],[0.7777777777777778,\"#fb9f3a\"],[0.8888888888888888,\"#fdca26\"],[1.0,\"#f0f921\"]]}],\"heatmapgl\":[{\"type\":\"heatmapgl\",\"colorbar\":{\"outlinewidth\":0,\"ticks\":\"\"},\"colorscale\":[[0.0,\"#0d0887\"],[0.1111111111111111,\"#46039f\"],[0.2222222222222222,\"#7201a8\"],[0.3333333333333333,\"#9c179e\"],[0.4444444444444444,\"#bd3786\"],[0.5555555555555556,\"#d8576b\"],[0.6666666666666666,\"#ed7953\"],[0.7777777777777778,\"#fb9f3a\"],[0.8888888888888888,\"#fdca26\"],[1.0,\"#f0f921\"]]}],\"contourcarpet\":[{\"type\":\"contourcarpet\",\"colorbar\":{\"outlinewidth\":0,\"ticks\":\"\"}}],\"contour\":[{\"type\":\"contour\",\"colorbar\":{\"outlinewidth\":0,\"ticks\":\"\"},\"colorscale\":[[0.0,\"#0d0887\"],[0.1111111111111111,\"#46039f\"],[0.2222222222222222,\"#7201a8\"],[0.3333333333333333,\"#9c179e\"],[0.4444444444444444,\"#bd3786\"],[0.5555555555555556,\"#d8576b\"],[0.6666666666666666,\"#ed7953\"],[0.7777777777777778,\"#fb9f3a\"],[0.8888888888888888,\"#fdca26\"],[1.0,\"#f0f921\"]]}],\"surface\":[{\"type\":\"surface\",\"colorbar\":{\"outlinewidth\":0,\"ticks\":\"\"},\"colorscale\":[[0.0,\"#0d0887\"],[0.1111111111111111,\"#46039f\"],[0.2222222222222222,\"#7201a8\"],[0.3333333333333333,\"#9c179e\"],[0.4444444444444444,\"#bd3786\"],[0.5555555555555556,\"#d8576b\"],[0.6666666666666666,\"#ed7953\"],[0.7777777777777778,\"#fb9f3a\"],[0.8888888888888888,\"#fdca26\"],[1.0,\"#f0f921\"]]}],\"mesh3d\":[{\"type\":\"mesh3d\",\"colorbar\":{\"outlinewidth\":0,\"ticks\":\"\"}}],\"scatter\":[{\"fillpattern\":{\"fillmode\":\"overlay\",\"size\":10,\"solidity\":0.2},\"type\":\"scatter\"}],\"parcoords\":[{\"type\":\"parcoords\",\"line\":{\"colorbar\":{\"outlinewidth\":0,\"ticks\":\"\"}}}],\"scatterpolargl\":[{\"type\":\"scatterpolargl\",\"marker\":{\"colorbar\":{\"outlinewidth\":0,\"ticks\":\"\"}}}],\"bar\":[{\"error_x\":{\"color\":\"#2a3f5f\"},\"error_y\":{\"color\":\"#2a3f5f\"},\"marker\":{\"line\":{\"color\":\"#E5ECF6\",\"width\":0.5},\"pattern\":{\"fillmode\":\"overlay\",\"size\":10,\"solidity\":0.2}},\"type\":\"bar\"}],\"scattergeo\":[{\"type\":\"scattergeo\",\"marker\":{\"colorbar\":{\"outlinewidth\":0,\"ticks\":\"\"}}}],\"scatterpolar\":[{\"type\":\"scatterpolar\",\"marker\":{\"colorbar\":{\"outlinewidth\":0,\"ticks\":\"\"}}}],\"histogram\":[{\"marker\":{\"pattern\":{\"fillmode\":\"overlay\",\"size\":10,\"solidity\":0.2}},\"type\":\"histogram\"}],\"scattergl\":[{\"type\":\"scattergl\",\"marker\":{\"colorbar\":{\"outlinewidth\":0,\"ticks\":\"\"}}}],\"scatter3d\":[{\"type\":\"scatter3d\",\"line\":{\"colorbar\":{\"outlinewidth\":0,\"ticks\":\"\"}},\"marker\":{\"colorbar\":{\"outlinewidth\":0,\"ticks\":\"\"}}}],\"scattermapbox\":[{\"type\":\"scattermapbox\",\"marker\":{\"colorbar\":{\"outlinewidth\":0,\"ticks\":\"\"}}}],\"scatterternary\":[{\"type\":\"scatterternary\",\"marker\":{\"colorbar\":{\"outlinewidth\":0,\"ticks\":\"\"}}}],\"scattercarpet\":[{\"type\":\"scattercarpet\",\"marker\":{\"colorbar\":{\"outlinewidth\":0,\"ticks\":\"\"}}}],\"carpet\":[{\"aaxis\":{\"endlinecolor\":\"#2a3f5f\",\"gridcolor\":\"white\",\"linecolor\":\"white\",\"minorgridcolor\":\"white\",\"startlinecolor\":\"#2a3f5f\"},\"baxis\":{\"endlinecolor\":\"#2a3f5f\",\"gridcolor\":\"white\",\"linecolor\":\"white\",\"minorgridcolor\":\"white\",\"startlinecolor\":\"#2a3f5f\"},\"type\":\"carpet\"}],\"table\":[{\"cells\":{\"fill\":{\"color\":\"#EBF0F8\"},\"line\":{\"color\":\"white\"}},\"header\":{\"fill\":{\"color\":\"#C8D4E3\"},\"line\":{\"color\":\"white\"}},\"type\":\"table\"}],\"barpolar\":[{\"marker\":{\"line\":{\"color\":\"#E5ECF6\",\"width\":0.5},\"pattern\":{\"fillmode\":\"overlay\",\"size\":10,\"solidity\":0.2}},\"type\":\"barpolar\"}],\"pie\":[{\"automargin\":true,\"type\":\"pie\"}]},\"layout\":{\"autotypenumbers\":\"strict\",\"colorway\":[\"#636efa\",\"#EF553B\",\"#00cc96\",\"#ab63fa\",\"#FFA15A\",\"#19d3f3\",\"#FF6692\",\"#B6E880\",\"#FF97FF\",\"#FECB52\"],\"font\":{\"color\":\"#2a3f5f\"},\"hovermode\":\"closest\",\"hoverlabel\":{\"align\":\"left\"},\"paper_bgcolor\":\"white\",\"plot_bgcolor\":\"#E5ECF6\",\"polar\":{\"bgcolor\":\"#E5ECF6\",\"angularaxis\":{\"gridcolor\":\"white\",\"linecolor\":\"white\",\"ticks\":\"\"},\"radialaxis\":{\"gridcolor\":\"white\",\"linecolor\":\"white\",\"ticks\":\"\"}},\"ternary\":{\"bgcolor\":\"#E5ECF6\",\"aaxis\":{\"gridcolor\":\"white\",\"linecolor\":\"white\",\"ticks\":\"\"},\"baxis\":{\"gridcolor\":\"white\",\"linecolor\":\"white\",\"ticks\":\"\"},\"caxis\":{\"gridcolor\":\"white\",\"linecolor\":\"white\",\"ticks\":\"\"}},\"coloraxis\":{\"colorbar\":{\"outlinewidth\":0,\"ticks\":\"\"}},\"colorscale\":{\"sequential\":[[0.0,\"#0d0887\"],[0.1111111111111111,\"#46039f\"],[0.2222222222222222,\"#7201a8\"],[0.3333333333333333,\"#9c179e\"],[0.4444444444444444,\"#bd3786\"],[0.5555555555555556,\"#d8576b\"],[0.6666666666666666,\"#ed7953\"],[0.7777777777777778,\"#fb9f3a\"],[0.8888888888888888,\"#fdca26\"],[1.0,\"#f0f921\"]],\"sequentialminus\":[[0.0,\"#0d0887\"],[0.1111111111111111,\"#46039f\"],[0.2222222222222222,\"#7201a8\"],[0.3333333333333333,\"#9c179e\"],[0.4444444444444444,\"#bd3786\"],[0.5555555555555556,\"#d8576b\"],[0.6666666666666666,\"#ed7953\"],[0.7777777777777778,\"#fb9f3a\"],[0.8888888888888888,\"#fdca26\"],[1.0,\"#f0f921\"]],\"diverging\":[[0,\"#8e0152\"],[0.1,\"#c51b7d\"],[0.2,\"#de77ae\"],[0.3,\"#f1b6da\"],[0.4,\"#fde0ef\"],[0.5,\"#f7f7f7\"],[0.6,\"#e6f5d0\"],[0.7,\"#b8e186\"],[0.8,\"#7fbc41\"],[0.9,\"#4d9221\"],[1,\"#276419\"]]},\"xaxis\":{\"gridcolor\":\"white\",\"linecolor\":\"white\",\"ticks\":\"\",\"title\":{\"standoff\":15},\"zerolinecolor\":\"white\",\"automargin\":true,\"zerolinewidth\":2},\"yaxis\":{\"gridcolor\":\"white\",\"linecolor\":\"white\",\"ticks\":\"\",\"title\":{\"standoff\":15},\"zerolinecolor\":\"white\",\"automargin\":true,\"zerolinewidth\":2},\"scene\":{\"xaxis\":{\"backgroundcolor\":\"#E5ECF6\",\"gridcolor\":\"white\",\"linecolor\":\"white\",\"showbackground\":true,\"ticks\":\"\",\"zerolinecolor\":\"white\",\"gridwidth\":2},\"yaxis\":{\"backgroundcolor\":\"#E5ECF6\",\"gridcolor\":\"white\",\"linecolor\":\"white\",\"showbackground\":true,\"ticks\":\"\",\"zerolinecolor\":\"white\",\"gridwidth\":2},\"zaxis\":{\"backgroundcolor\":\"#E5ECF6\",\"gridcolor\":\"white\",\"linecolor\":\"white\",\"showbackground\":true,\"ticks\":\"\",\"zerolinecolor\":\"white\",\"gridwidth\":2}},\"shapedefaults\":{\"line\":{\"color\":\"#2a3f5f\"}},\"annotationdefaults\":{\"arrowcolor\":\"#2a3f5f\",\"arrowhead\":0,\"arrowwidth\":1},\"geo\":{\"bgcolor\":\"white\",\"landcolor\":\"#E5ECF6\",\"subunitcolor\":\"white\",\"showland\":true,\"showlakes\":true,\"lakecolor\":\"white\"},\"title\":{\"x\":0.05},\"mapbox\":{\"style\":\"light\"}}},\"xaxis\":{\"anchor\":\"y\",\"domain\":[0.0,1.0],\"title\":{\"text\":\"Category\"},\"categoryorder\":\"array\",\"categoryarray\":[\"A\",\"B\",\"C\",\"D\"]},\"yaxis\":{\"anchor\":\"x\",\"domain\":[0.0,1.0],\"title\":{\"text\":\"Value Count\"}},\"legend\":{\"title\":{\"text\":\"Category\"},\"tracegroupgap\":0},\"title\":{\"text\":\"Bar Plot Example\"},\"barmode\":\"relative\"},                        {\"responsive\": true}                    ).then(function(){\n",
              "                            \n",
              "var gd = document.getElementById('0eff3553-a4e5-4379-be57-ab9a3476fb56');\n",
              "var x = new MutationObserver(function (mutations, observer) {{\n",
              "        var display = window.getComputedStyle(gd).display;\n",
              "        if (!display || display === 'none') {{\n",
              "            console.log([gd, 'removed!']);\n",
              "            Plotly.purge(gd);\n",
              "            observer.disconnect();\n",
              "        }}\n",
              "}});\n",
              "\n",
              "// Listen for the removal of the full notebook cells\n",
              "var notebookContainer = gd.closest('#notebook-container');\n",
              "if (notebookContainer) {{\n",
              "    x.observe(notebookContainer, {childList: true});\n",
              "}}\n",
              "\n",
              "// Listen for the clearing of the current output cell\n",
              "var outputEl = gd.closest('.output');\n",
              "if (outputEl) {{\n",
              "    x.observe(outputEl, {childList: true});\n",
              "}}\n",
              "\n",
              "                        })                };                            </script>        </div>\n",
              "</body>\n",
              "</html>"
            ]
          },
          "metadata": {}
        }
      ]
    },
    {
      "cell_type": "markdown",
      "source": [
        "[Q.6] Create a DataFrame and add a new column based on an existing column."
      ],
      "metadata": {
        "id": "15Lcr6GjhGla"
      }
    },
    {
      "cell_type": "code",
      "source": [
        "data = {\n",
        "    'Name': ['ayushman', 'sameer', 'Ayush', 'loshan'],\n",
        "    'Age': [25, 30, 35, 40],\n",
        "    'Salary': [50000, 60000, 70000, 80000]\n",
        "}\n",
        "df = pd.DataFrame(data)\n",
        "\n",
        "df['Bonus'] = df['Salary'] * 0.10\n",
        "\n",
        "print(df)\n"
      ],
      "metadata": {
        "colab": {
          "base_uri": "https://localhost:8080/"
        },
        "id": "BKZI3YLxhE8J",
        "outputId": "969e7eeb-5444-4c33-f4fa-b54cc75f5ec7"
      },
      "execution_count": null,
      "outputs": [
        {
          "output_type": "stream",
          "name": "stdout",
          "text": [
            "       Name  Age  Salary   Bonus\n",
            "0  ayushman   25   50000  5000.0\n",
            "1    sameer   30   60000  6000.0\n",
            "2     Ayush   35   70000  7000.0\n",
            "3    loshan   40   80000  8000.0\n"
          ]
        }
      ]
    },
    {
      "cell_type": "markdown",
      "source": [
        "[Q.7] Write a program to perform element-wise multiplication of two NumPy arrays."
      ],
      "metadata": {
        "id": "hufVkNE2wYQQ"
      }
    },
    {
      "cell_type": "code",
      "source": [
        "import numpy as np\n",
        "\n",
        "array1 = np.array([1, 2, 3, 4])\n",
        "array2 = np.array([5, 6, 7, 8])\n",
        "\n",
        "result = array1*array2\n",
        "\n",
        "print(\"Array 1:\", array1)\n",
        "print(\"Array 2:\", array2)\n",
        "print(\"Element-wise Multiplication:\", result)\n"
      ],
      "metadata": {
        "colab": {
          "base_uri": "https://localhost:8080/"
        },
        "id": "Qja6dDpswVlU",
        "outputId": "deafbc93-fc1f-49ca-a6b4-e5d1e992177f"
      },
      "execution_count": null,
      "outputs": [
        {
          "output_type": "stream",
          "name": "stdout",
          "text": [
            "Array 1: [1 2 3 4]\n",
            "Array 2: [5 6 7 8]\n",
            "Element-wise Multiplication: [ 5 12 21 32]\n"
          ]
        }
      ]
    },
    {
      "cell_type": "markdown",
      "source": [
        "[Q.8] Create a line plot with multiple lines using Matplotlib."
      ],
      "metadata": {
        "id": "NvBCVURU3xoY"
      }
    },
    {
      "cell_type": "code",
      "source": [
        "import matplotlib.pyplot as plt\n",
        "\n",
        "x = [1, 2, 3, 4, 5]\n",
        "y1 = [2, 4, 6, 8, 10]\n",
        "y2 = [1, 3, 5, 7, 9]\n",
        "y3 = [2, 3, 4, 5, 6]\n",
        "\n",
        "plt.figure(figsize=(8, 6))\n",
        "\n",
        "plt.plot(x, y1, label='Line 1', marker='o', linestyle='--', color='red')\n",
        "plt.plot(x, y2, label='Line 2', marker='s', linestyle='-', color='green')\n",
        "\n",
        "plt.xlabel('X-axis')\n",
        "plt.ylabel('Y-axis')\n",
        "plt.title('Line Plot with Multiple Lines')\n",
        "plt.legend()\n",
        "\n",
        "\n",
        "plt.show()\n"
      ],
      "metadata": {
        "colab": {
          "base_uri": "https://localhost:8080/",
          "height": 564
        },
        "id": "6-MPaCbhC3Rv",
        "outputId": "70dbbd7d-9a3b-4656-9685-0c75cffa9c25"
      },
      "execution_count": null,
      "outputs": [
        {
          "output_type": "display_data",
          "data": {
            "text/plain": [
              "<Figure size 800x600 with 1 Axes>"
            ],
            "image/png": "[encoded data removed]"
          },
          "metadata": {}
        }
      ]
    },
    {
      "cell_type": "markdown",
      "source": [
        "[Q.9]  Generate a Pandas DataFrame and filter rows where a column value is greater than a threshold."
      ],
      "metadata": {
        "id": "GhzbNpIrKK_G"
      }
    },
    {
      "cell_type": "code",
      "source": [
        "import pandas as pd\n",
        "\n",
        "data = {\n",
        "    'Name': ['loshan', 'anshuman', 'sameer', 'piyush', 'ayush'],\n",
        "    'Age': [24, 20, 25, 19, 26],\n",
        "    'Score': [85, 92, 88, 76, 95]\n",
        "}\n",
        "df = pd.DataFrame(data)\n",
        "\n",
        "print(\"Original DataFrame:\")\n",
        "print(df)\n",
        "\n",
        "threshold = 22\n",
        "filtered_df = df[df['Age'] > threshold]\n",
        "\n",
        "print(\"\\nFiltered DataFrame (Age > 22):\")\n",
        "print(filtered_df)\n"
      ],
      "metadata": {
        "colab": {
          "base_uri": "https://localhost:8080/"
        },
        "id": "RbAPZzhuKJtL",
        "outputId": "edcf9536-8ca4-4246-c863-a549eb2eb18d"
      },
      "execution_count": null,
      "outputs": [
        {
          "output_type": "stream",
          "name": "stdout",
          "text": [
            "Original DataFrame:\n",
            "       Name  Age  Score\n",
            "0    loshan   24     85\n",
            "1  anshuman   20     92\n",
            "2    sameer   25     88\n",
            "3    piyush   19     76\n",
            "4     ayush   26     95\n",
            "\n",
            "Filtered DataFrame (Age > 22):\n",
            "     Name  Age  Score\n",
            "0  loshan   24     85\n",
            "2  sameer   25     88\n",
            "4   ayush   26     95\n"
          ]
        }
      ]
    },
    {
      "cell_type": "markdown",
      "source": [
        "[Q.10]  Create a histogram using Seaborn to visualize a distribution."
      ],
      "metadata": {
        "id": "WNKhtqRnR_m2"
      }
    },
    {
      "cell_type": "code",
      "source": [
        "import seaborn as sns\n",
        "import matplotlib.pyplot as plt\n",
        "import numpy as np\n",
        "\n",
        "np.random.seed(42)\n",
        "data = np.random.normal(loc=50, scale=10, size=1000)\n",
        "\n",
        "sns.set(style=\"whitegrid\")\n",
        "plt.figure(figsize=(10, 6))\n",
        "sns.histplot(data, bins=30, kde=True, color=\"blue\")\n",
        "\n",
        "plt.title(\"Histogram\", fontsize=16)\n",
        "plt.xlabel(\"Value\", fontsize=14)\n",
        "plt.ylabel(\"Frequency\", fontsize=14)\n",
        "plt.xticks(fontsize=12)\n",
        "plt.yticks(fontsize=12)\n",
        "\n",
        "plt.tight_layout()\n",
        "plt.show()\n"
      ],
      "metadata": {
        "colab": {
          "base_uri": "https://localhost:8080/",
          "height": 601
        },
        "id": "E8xO8s46RFJf",
        "outputId": "785104e0-edf3-41cd-becb-609de10212e6"
      },
      "execution_count": 11,
      "outputs": [
        {
          "output_type": "display_data",
          "data": {
            "text/plain": [
              "<Figure size 1000x600 with 1 Axes>"
            ],
            "image/png": "[encoded data removed]"
          },
          "metadata": {}
        }
      ]
    },
    {
      "cell_type": "markdown",
      "source": [
        "[Q.11]  Perform matrix multiplication using NumPy."
      ],
      "metadata": {
        "id": "NI1xoFi8cc8p"
      }
    },
    {
      "cell_type": "code",
      "source": [
        "import numpy as np\n",
        "\n",
        "matrix_a = np.array([[1, 2, 3], [4, 5, 6]])\n",
        "matrix_b = np.array([[7, 8], [9, 10], [11, 12]])\n",
        "\n",
        "result = np.dot(matrix_a, matrix_b)\n",
        "\n",
        "print(\"Matrix A:\")\n",
        "print(matrix_a)\n",
        "print(\"\\nMatrix B:\")\n",
        "print(matrix_b)\n",
        "print(\"\\nResult of matrix multiplication:\")\n",
        "print(result)\n"
      ],
      "metadata": {
        "colab": {
          "base_uri": "https://localhost:8080/"
        },
        "id": "hfTeiYtQeBNe",
        "outputId": "017f2b00-f0bd-4027-f052-82dabf9abb1a"
      },
      "execution_count": 13,
      "outputs": [
        {
          "output_type": "stream",
          "name": "stdout",
          "text": [
            "Matrix A:\n",
            "[[1 2 3]\n",
            " [4 5 6]]\n",
            "\n",
            "Matrix B:\n",
            "[[ 7  8]\n",
            " [ 9 10]\n",
            " [11 12]]\n",
            "\n",
            "Result of matrix multiplication:\n",
            "[[ 58  64]\n",
            " [139 154]]\n"
          ]
        }
      ]
    },
    {
      "cell_type": "markdown",
      "source": [
        "[Q.12] Use Pandas to load a CSV file and display its first 5 rows."
      ],
      "metadata": {
        "id": "vQsG8KAPebqC"
      }
    },
    {
      "cell_type": "code",
      "source": [
        "import pandas as pd\n",
        "\n",
        "data = {\n",
        "    \"Name\": [\"loshan\", \"sameer\", \"ayush\", \"sumit\", \"anshuman\"],\n",
        "    \"Age\": [24, 20, 25, 22, 21,],\n",
        "    \"City\": [\"indore\", \"ujjain\", \"pune\",\"mumbai\",\"hyderabad\"]\n",
        "}\n",
        "\n",
        "df = pd.DataFrame(data)\n",
        "\n",
        "df.to_csv(\"students.csv\", index=False)\n",
        "\n",
        "print(\"CSV file created successfully!\")\n"
      ],
      "metadata": {
        "colab": {
          "base_uri": "https://localhost:8080/"
        },
        "id": "R-gG8xpQ0mqy",
        "outputId": "1efb7881-d00d-4073-e6d0-f65695384cb4"
      },
      "execution_count": 26,
      "outputs": [
        {
          "output_type": "stream",
          "name": "stdout",
          "text": [
            "CSV file created successfully!\n"
          ]
        }
      ]
    },
    {
      "cell_type": "code",
      "source": [
        "import pandas as pd\n",
        "\n",
        "# Load the CSV file\n",
        "file_path = 'students.csv'  # Replace with the path to your CSV file\n",
        "data = pd.read_csv(file_path)\n",
        "\n",
        "# Display the first 5 rows\n",
        "print(data.head())\n"
      ],
      "metadata": {
        "colab": {
          "base_uri": "https://localhost:8080/"
        },
        "id": "ZqrItKn4ejxn",
        "outputId": "84211f6f-9e3c-4648-8e50-0937ba4261b8"
      },
      "execution_count": 27,
      "outputs": [
        {
          "output_type": "stream",
          "name": "stdout",
          "text": [
            "       Name  Age       City\n",
            "0    loshan   24     indore\n",
            "1    sameer   20     ujjain\n",
            "2     ayush   25       pune\n",
            "3     sumit   22     mumbai\n",
            "4  anshuman   21  hyderabad\n"
          ]
        }
      ]
    },
    {
      "cell_type": "markdown",
      "source": [
        "[Q.13] Create a 3D scatter plot using Plotly."
      ],
      "metadata": {
        "id": "f4tmGF-S1y0b"
      }
    },
    {
      "cell_type": "code",
      "source": [
        "import pandas as pd\n",
        "import numpy as np\n",
        "import matplotlib.pyplot as plt\n",
        "import seaborn as sns\n",
        "\n",
        "import warnings\n",
        "warnings.filterwarnings(\"ignore\")\n",
        "\n",
        "import plotly.graph_objects as go\n",
        "import plotly.express as px\n",
        "\n",
        "\n",
        "x = [1, 2, 3, 4]\n",
        "y = [5, 8, 12, 3]\n",
        "z = [3, 4, 5, 6]\n",
        "fig = px.scatter_3d(x=x, y=y, z=z)\n",
        "fig.show()"
      ],
      "metadata": {
        "colab": {
          "base_uri": "https://localhost:8080/",
          "height": 542
        },
        "id": "EipuhGQT2-LR",
        "outputId": "4d092984-db55-4257-e2c6-9355c921e6a4"
      },
      "execution_count": 34,
      "outputs": [
        {
          "output_type": "display_data",
          "data": {
            "text/html": [
              "<html>\n",
              "<head><meta charset=\"utf-8\" /></head>\n",
              "<body>\n",
              "    <div>            <script src=\"https://cdnjs.cloudflare.com/ajax/libs/mathjax/2.7.5/MathJax.js?config=TeX-AMS-MML_SVG\"></script><script type=\"text/javascript\">if (window.MathJax && window.MathJax.Hub && window.MathJax.Hub.Config) {window.MathJax.Hub.Config({SVG: {font: \"STIX-Web\"}});}</script>                <script type=\"text/javascript\">window.PlotlyConfig = {MathJaxConfig: 'local'};</script>\n",
              "        <script charset=\"utf-8\" src=\"https://cdn.plot.ly/plotly-2.35.2.min.js\"></script>                <div id=\"8f4c2b3f-7897-4715-b924-cac59e03d1be\" class=\"plotly-graph-div\" style=\"height:525px; width:100%;\"></div>            <script type=\"text/javascript\">                                    window.PLOTLYENV=window.PLOTLYENV || {};                                    if (document.getElementById(\"8f4c2b3f-7897-4715-b924-cac59e03d1be\")) {                    Plotly.newPlot(                        \"8f4c2b3f-7897-4715-b924-cac59e03d1be\",                        [{\"hovertemplate\":\"x=%{x}\\u003cbr\\u003ey=%{y}\\u003cbr\\u003ez=%{z}\\u003cextra\\u003e\\u003c\\u002fextra\\u003e\",\"legendgroup\":\"\",\"marker\":{\"color\":\"#636efa\",\"symbol\":\"circle\"},\"mode\":\"markers\",\"name\":\"\",\"scene\":\"scene\",\"showlegend\":false,\"x\":[1,2,3,4],\"y\":[5,8,12,3],\"z\":[3,4,5,6],\"type\":\"scatter3d\"}],                        {\"template\":{\"data\":{\"histogram2dcontour\":[{\"type\":\"histogram2dcontour\",\"colorbar\":{\"outlinewidth\":0,\"ticks\":\"\"},\"colorscale\":[[0.0,\"#0d0887\"],[0.1111111111111111,\"#46039f\"],[0.2222222222222222,\"#7201a8\"],[0.3333333333333333,\"#9c179e\"],[0.4444444444444444,\"#bd3786\"],[0.5555555555555556,\"#d8576b\"],[0.6666666666666666,\"#ed7953\"],[0.7777777777777778,\"#fb9f3a\"],[0.8888888888888888,\"#fdca26\"],[1.0,\"#f0f921\"]]}],\"choropleth\":[{\"type\":\"choropleth\",\"colorbar\":{\"outlinewidth\":0,\"ticks\":\"\"}}],\"histogram2d\":[{\"type\":\"histogram2d\",\"colorbar\":{\"outlinewidth\":0,\"ticks\":\"\"},\"colorscale\":[[0.0,\"#0d0887\"],[0.1111111111111111,\"#46039f\"],[0.2222222222222222,\"#7201a8\"],[0.3333333333333333,\"#9c179e\"],[0.4444444444444444,\"#bd3786\"],[0.5555555555555556,\"#d8576b\"],[0.6666666666666666,\"#ed7953\"],[0.7777777777777778,\"#fb9f3a\"],[0.8888888888888888,\"#fdca26\"],[1.0,\"#f0f921\"]]}],\"heatmap\":[{\"type\":\"heatmap\",\"colorbar\":{\"outlinewidth\":0,\"ticks\":\"\"},\"colorscale\":[[0.0,\"#0d0887\"],[0.1111111111111111,\"#46039f\"],[0.2222222222222222,\"#7201a8\"],[0.3333333333333333,\"#9c179e\"],[0.4444444444444444,\"#bd3786\"],[0.5555555555555556,\"#d8576b\"],[0.6666666666666666,\"#ed7953\"],[0.7777777777777778,\"#fb9f3a\"],[0.8888888888888888,\"#fdca26\"],[1.0,\"#f0f921\"]]}],\"heatmapgl\":[{\"type\":\"heatmapgl\",\"colorbar\":{\"outlinewidth\":0,\"ticks\":\"\"},\"colorscale\":[[0.0,\"#0d0887\"],[0.1111111111111111,\"#46039f\"],[0.2222222222222222,\"#7201a8\"],[0.3333333333333333,\"#9c179e\"],[0.4444444444444444,\"#bd3786\"],[0.5555555555555556,\"#d8576b\"],[0.6666666666666666,\"#ed7953\"],[0.7777777777777778,\"#fb9f3a\"],[0.8888888888888888,\"#fdca26\"],[1.0,\"#f0f921\"]]}],\"contourcarpet\":[{\"type\":\"contourcarpet\",\"colorbar\":{\"outlinewidth\":0,\"ticks\":\"\"}}],\"contour\":[{\"type\":\"contour\",\"colorbar\":{\"outlinewidth\":0,\"ticks\":\"\"},\"colorscale\":[[0.0,\"#0d0887\"],[0.1111111111111111,\"#46039f\"],[0.2222222222222222,\"#7201a8\"],[0.3333333333333333,\"#9c179e\"],[0.4444444444444444,\"#bd3786\"],[0.5555555555555556,\"#d8576b\"],[0.6666666666666666,\"#ed7953\"],[0.7777777777777778,\"#fb9f3a\"],[0.8888888888888888,\"#fdca26\"],[1.0,\"#f0f921\"]]}],\"surface\":[{\"type\":\"surface\",\"colorbar\":{\"outlinewidth\":0,\"ticks\":\"\"},\"colorscale\":[[0.0,\"#0d0887\"],[0.1111111111111111,\"#46039f\"],[0.2222222222222222,\"#7201a8\"],[0.3333333333333333,\"#9c179e\"],[0.4444444444444444,\"#bd3786\"],[0.5555555555555556,\"#d8576b\"],[0.6666666666666666,\"#ed7953\"],[0.7777777777777778,\"#fb9f3a\"],[0.8888888888888888,\"#fdca26\"],[1.0,\"#f0f921\"]]}],\"mesh3d\":[{\"type\":\"mesh3d\",\"colorbar\":{\"outlinewidth\":0,\"ticks\":\"\"}}],\"scatter\":[{\"fillpattern\":{\"fillmode\":\"overlay\",\"size\":10,\"solidity\":0.2},\"type\":\"scatter\"}],\"parcoords\":[{\"type\":\"parcoords\",\"line\":{\"colorbar\":{\"outlinewidth\":0,\"ticks\":\"\"}}}],\"scatterpolargl\":[{\"type\":\"scatterpolargl\",\"marker\":{\"colorbar\":{\"outlinewidth\":0,\"ticks\":\"\"}}}],\"bar\":[{\"error_x\":{\"color\":\"#2a3f5f\"},\"error_y\":{\"color\":\"#2a3f5f\"},\"marker\":{\"line\":{\"color\":\"#E5ECF6\",\"width\":0.5},\"pattern\":{\"fillmode\":\"overlay\",\"size\":10,\"solidity\":0.2}},\"type\":\"bar\"}],\"scattergeo\":[{\"type\":\"scattergeo\",\"marker\":{\"colorbar\":{\"outlinewidth\":0,\"ticks\":\"\"}}}],\"scatterpolar\":[{\"type\":\"scatterpolar\",\"marker\":{\"colorbar\":{\"outlinewidth\":0,\"ticks\":\"\"}}}],\"histogram\":[{\"marker\":{\"pattern\":{\"fillmode\":\"overlay\",\"size\":10,\"solidity\":0.2}},\"type\":\"histogram\"}],\"scattergl\":[{\"type\":\"scattergl\",\"marker\":{\"colorbar\":{\"outlinewidth\":0,\"ticks\":\"\"}}}],\"scatter3d\":[{\"type\":\"scatter3d\",\"line\":{\"colorbar\":{\"outlinewidth\":0,\"ticks\":\"\"}},\"marker\":{\"colorbar\":{\"outlinewidth\":0,\"ticks\":\"\"}}}],\"scattermapbox\":[{\"type\":\"scattermapbox\",\"marker\":{\"colorbar\":{\"outlinewidth\":0,\"ticks\":\"\"}}}],\"scatterternary\":[{\"type\":\"scatterternary\",\"marker\":{\"colorbar\":{\"outlinewidth\":0,\"ticks\":\"\"}}}],\"scattercarpet\":[{\"type\":\"scattercarpet\",\"marker\":{\"colorbar\":{\"outlinewidth\":0,\"ticks\":\"\"}}}],\"carpet\":[{\"aaxis\":{\"endlinecolor\":\"#2a3f5f\",\"gridcolor\":\"white\",\"linecolor\":\"white\",\"minorgridcolor\":\"white\",\"startlinecolor\":\"#2a3f5f\"},\"baxis\":{\"endlinecolor\":\"#2a3f5f\",\"gridcolor\":\"white\",\"linecolor\":\"white\",\"minorgridcolor\":\"white\",\"startlinecolor\":\"#2a3f5f\"},\"type\":\"carpet\"}],\"table\":[{\"cells\":{\"fill\":{\"color\":\"#EBF0F8\"},\"line\":{\"color\":\"white\"}},\"header\":{\"fill\":{\"color\":\"#C8D4E3\"},\"line\":{\"color\":\"white\"}},\"type\":\"table\"}],\"barpolar\":[{\"marker\":{\"line\":{\"color\":\"#E5ECF6\",\"width\":0.5},\"pattern\":{\"fillmode\":\"overlay\",\"size\":10,\"solidity\":0.2}},\"type\":\"barpolar\"}],\"pie\":[{\"automargin\":true,\"type\":\"pie\"}]},\"layout\":{\"autotypenumbers\":\"strict\",\"colorway\":[\"#636efa\",\"#EF553B\",\"#00cc96\",\"#ab63fa\",\"#FFA15A\",\"#19d3f3\",\"#FF6692\",\"#B6E880\",\"#FF97FF\",\"#FECB52\"],\"font\":{\"color\":\"#2a3f5f\"},\"hovermode\":\"closest\",\"hoverlabel\":{\"align\":\"left\"},\"paper_bgcolor\":\"white\",\"plot_bgcolor\":\"#E5ECF6\",\"polar\":{\"bgcolor\":\"#E5ECF6\",\"angularaxis\":{\"gridcolor\":\"white\",\"linecolor\":\"white\",\"ticks\":\"\"},\"radialaxis\":{\"gridcolor\":\"white\",\"linecolor\":\"white\",\"ticks\":\"\"}},\"ternary\":{\"bgcolor\":\"#E5ECF6\",\"aaxis\":{\"gridcolor\":\"white\",\"linecolor\":\"white\",\"ticks\":\"\"},\"baxis\":{\"gridcolor\":\"white\",\"linecolor\":\"white\",\"ticks\":\"\"},\"caxis\":{\"gridcolor\":\"white\",\"linecolor\":\"white\",\"ticks\":\"\"}},\"coloraxis\":{\"colorbar\":{\"outlinewidth\":0,\"ticks\":\"\"}},\"colorscale\":{\"sequential\":[[0.0,\"#0d0887\"],[0.1111111111111111,\"#46039f\"],[0.2222222222222222,\"#7201a8\"],[0.3333333333333333,\"#9c179e\"],[0.4444444444444444,\"#bd3786\"],[0.5555555555555556,\"#d8576b\"],[0.6666666666666666,\"#ed7953\"],[0.7777777777777778,\"#fb9f3a\"],[0.8888888888888888,\"#fdca26\"],[1.0,\"#f0f921\"]],\"sequentialminus\":[[0.0,\"#0d0887\"],[0.1111111111111111,\"#46039f\"],[0.2222222222222222,\"#7201a8\"],[0.3333333333333333,\"#9c179e\"],[0.4444444444444444,\"#bd3786\"],[0.5555555555555556,\"#d8576b\"],[0.6666666666666666,\"#ed7953\"],[0.7777777777777778,\"#fb9f3a\"],[0.8888888888888888,\"#fdca26\"],[1.0,\"#f0f921\"]],\"diverging\":[[0,\"#8e0152\"],[0.1,\"#c51b7d\"],[0.2,\"#de77ae\"],[0.3,\"#f1b6da\"],[0.4,\"#fde0ef\"],[0.5,\"#f7f7f7\"],[0.6,\"#e6f5d0\"],[0.7,\"#b8e186\"],[0.8,\"#7fbc41\"],[0.9,\"#4d9221\"],[1,\"#276419\"]]},\"xaxis\":{\"gridcolor\":\"white\",\"linecolor\":\"white\",\"ticks\":\"\",\"title\":{\"standoff\":15},\"zerolinecolor\":\"white\",\"automargin\":true,\"zerolinewidth\":2},\"yaxis\":{\"gridcolor\":\"white\",\"linecolor\":\"white\",\"ticks\":\"\",\"title\":{\"standoff\":15},\"zerolinecolor\":\"white\",\"automargin\":true,\"zerolinewidth\":2},\"scene\":{\"xaxis\":{\"backgroundcolor\":\"#E5ECF6\",\"gridcolor\":\"white\",\"linecolor\":\"white\",\"showbackground\":true,\"ticks\":\"\",\"zerolinecolor\":\"white\",\"gridwidth\":2},\"yaxis\":{\"backgroundcolor\":\"#E5ECF6\",\"gridcolor\":\"white\",\"linecolor\":\"white\",\"showbackground\":true,\"ticks\":\"\",\"zerolinecolor\":\"white\",\"gridwidth\":2},\"zaxis\":{\"backgroundcolor\":\"#E5ECF6\",\"gridcolor\":\"white\",\"linecolor\":\"white\",\"showbackground\":true,\"ticks\":\"\",\"zerolinecolor\":\"white\",\"gridwidth\":2}},\"shapedefaults\":{\"line\":{\"color\":\"#2a3f5f\"}},\"annotationdefaults\":{\"arrowcolor\":\"#2a3f5f\",\"arrowhead\":0,\"arrowwidth\":1},\"geo\":{\"bgcolor\":\"white\",\"landcolor\":\"#E5ECF6\",\"subunitcolor\":\"white\",\"showland\":true,\"showlakes\":true,\"lakecolor\":\"white\"},\"title\":{\"x\":0.05},\"mapbox\":{\"style\":\"light\"}}},\"scene\":{\"domain\":{\"x\":[0.0,1.0],\"y\":[0.0,1.0]},\"xaxis\":{\"title\":{\"text\":\"x\"}},\"yaxis\":{\"title\":{\"text\":\"y\"}},\"zaxis\":{\"title\":{\"text\":\"z\"}}},\"legend\":{\"tracegroupgap\":0},\"margin\":{\"t\":60}},                        {\"responsive\": true}                    ).then(function(){\n",
              "                            \n",
              "var gd = document.getElementById('8f4c2b3f-7897-4715-b924-cac59e03d1be');\n",
              "var x = new MutationObserver(function (mutations, observer) {{\n",
              "        var display = window.getComputedStyle(gd).display;\n",
              "        if (!display || display === 'none') {{\n",
              "            console.log([gd, 'removed!']);\n",
              "            Plotly.purge(gd);\n",
              "            observer.disconnect();\n",
              "        }}\n",
              "}});\n",
              "\n",
              "// Listen for the removal of the full notebook cells\n",
              "var notebookContainer = gd.closest('#notebook-container');\n",
              "if (notebookContainer) {{\n",
              "    x.observe(notebookContainer, {childList: true});\n",
              "}}\n",
              "\n",
              "// Listen for the clearing of the current output cell\n",
              "var outputEl = gd.closest('.output');\n",
              "if (outputEl) {{\n",
              "    x.observe(outputEl, {childList: true});\n",
              "}}\n",
              "\n",
              "                        })                };                            </script>        </div>\n",
              "</body>\n",
              "</html>"
            ]
          },
          "metadata": {}
        }
      ]
    }
  ]
}